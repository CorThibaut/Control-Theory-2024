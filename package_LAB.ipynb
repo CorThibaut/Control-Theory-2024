{
 "cells": [
  {
   "cell_type": "markdown",
   "id": "af4ddbf9-8b02-4f3e-a228-7d4e55ed1120",
   "metadata": {},
   "source": [
    "# Package LAB"
   ]
  },
  {
   "cell_type": "code",
   "execution_count": 1,
   "id": "62b9e26b-18fa-4ce4-b935-6cc82b223ecb",
   "metadata": {},
   "outputs": [],
   "source": [
    "import numpy as np\n",
    "import matplotlib.pyplot as plt\n",
    "from scipy.optimize import minimize\n",
    "from matplotlib import colors as mcolors\n",
    "import ipywidgets as widgets\n",
    "from IPython.display import display\n",
    "\n",
    "import package_LAB\n",
    "from importlib import reload\n",
    "package_LAB = reload(package_LAB)\n",
    "\n",
    "from package_LAB import LL_RT, PID_RT, IMCTuning, Controller, Margins\n",
    "from package_DBR import myRound, SelectPath_RT, Delay_RT, FO_RT, FOPDT, SOPDT, FOPDT_cost, SOPDT_cost, Process, Bode"
   ]
  },
  {
   "cell_type": "markdown",
   "id": "e0ab40fd-fca2-4fde-9b64-59d420d60285",
   "metadata": {},
   "source": [
    "# LL_RT()"
   ]
  },
  {
   "cell_type": "code",
   "execution_count": 2,
   "id": "ef1aaebf-a9bb-49ba-8585-b6059d4fcd09",
   "metadata": {},
   "outputs": [
    {
     "name": "stdout",
     "output_type": "stream",
     "text": [
      "Help on function LL_RT in module package_LAB:\n",
      "\n",
      "LL_RT(MV, Kp, Tlead, Tlag, Ts, PV, PVInit=0, method='EBD')\n",
      "    The function \"LL_T\" needs to be included in a \"for or while loop\".\n",
      "\n",
      "    :MV: input vector\n",
      "    :Kp: process gain\n",
      "    :Tlead: lead time constant [s]\n",
      "    :Tlag: lag time constant [s]\n",
      "    :Ts: sampling period [s]\n",
      "    :PV: output vector\n",
      "    :PVInit: (optional: default value is 0)\n",
      "    :method: discretization method (optional: default value is 'EBD')\n",
      "        EBD: Euler Backward difference\n",
      "        EFD: Euler Forward difference\n",
      "\n",
      "    The function \"LEADLAG_RT\" appends a value to the output vector \"PV\".\n",
      "    The appended value is obtained from a recurrent equation that depends on the discretization method.\n",
      "\n"
     ]
    }
   ],
   "source": [
    "help(LL_RT)"
   ]
  },
  {
   "cell_type": "code",
   "execution_count": 3,
   "id": "b01ceb91-9b88-49e5-b291-836bc5d8a3e7",
   "metadata": {},
   "outputs": [
    {
     "data": {
      "application/vnd.jupyter.widget-view+json": {
       "model_id": "652699cf64f94aa69a14e5986b86ae4c",
       "version_major": 2,
       "version_minor": 0
      },
      "text/plain": [
       "interactive(children=(FloatSlider(value=1.0, description='Kp', max=10.0, min=0.1), IntSlider(value=15, descrip…"
      ]
     },
     "metadata": {},
     "output_type": "display_data"
    },
    {
     "data": {
      "text/plain": [
       "<function __main__.simulate(Kp=1, Tlead=15, Tlag=10, theta=10)>"
      ]
     },
     "execution_count": 3,
     "metadata": {},
     "output_type": "execute_result"
    }
   ],
   "source": [
    "TSim = 100\n",
    "Ts = 0.5\n",
    "N = int(TSim/Ts) + 1\n",
    "MVPath = {0: 0, 5: 1, 50: 2, 80: 3, TSim: 3}\n",
    "\n",
    "def simulate(Kp=1, Tlead=15, Tlag=10, theta=10):\n",
    "    t = []\n",
    "    MV = []\n",
    "    PV_EBD = []\n",
    "    PV_EFD = []\n",
    "\n",
    "    for i in range(0,N):\n",
    "        t.append(i*Ts)\n",
    "        SelectPath_RT(MVPath,t,MV)\n",
    "        LL_RT(MV,Kp,Tlead,Tlag,Ts,PV_EBD)\n",
    "        LL_RT(MV,Kp,Tlead,Tlag,Ts,PV_EFD,0,'EFD')\n",
    "\n",
    "    plt.figure(figsize=(15,9))\n",
    "\n",
    "    plt.subplot(2,1,1)\n",
    "    plt.step(t,MV,'b-',label='MV',where='post')\n",
    "    plt.ylabel('Value of MV')\n",
    "    plt.title('Lead-lag response')\n",
    "    plt.legend(loc='best')\n",
    "    plt.xlim([0, TSim])\n",
    "\n",
    "    plt.subplot(2,1,2)\n",
    "    plt.step(t,PV_EBD,'g-',label='Lead-lag response (EBD)',where='post')\n",
    "    plt.step(t,PV_EFD,'lime',label='Lead-lag response (EFD)',where='post')\n",
    "    plt.ylabel('Value of PV')\n",
    "    plt.xlabel('Time [s]')\n",
    "    plt.legend(loc='best')\n",
    "    plt.xlim([0, TSim])\n",
    "\n",
    "    plt.show()\n",
    "\n",
    "widgets.interact(simulate, Kp=(0.1,10.0), Tlead=(-10,30), Tlag=(-10,30), theta=(1,20))\n"
   ]
  },
  {
   "cell_type": "markdown",
   "id": "78144a49-7a13-4794-9fd2-2bcf67eac414",
   "metadata": {},
   "source": [
    "# PID_RT()"
   ]
  },
  {
   "cell_type": "code",
   "execution_count": 4,
   "id": "4464a159-3801-4243-8932-96decff7c06d",
   "metadata": {},
   "outputs": [
    {
     "name": "stdout",
     "output_type": "stream",
     "text": [
      "Help on function PID_RT in module package_LAB:\n",
      "\n",
      "PID_RT(SP, PV, Man, MVMan, MVFF, Kc, Ti, Td, alpha, Ts, MVMin, MVMax, MV, MVP, MVI, MVD, E, ManFF=False, PVInit=0, method='EBD-EBD')\n",
      "    The function \"PID_RT\" needs to be included in a \"for or while loop\".\n",
      "\n",
      "    :SP: SP (or SetPoint) vector\n",
      "    :PV: PV (or Process Value) vector\n",
      "    :Man: Man (or Manual controller mode) vector (True or False)\n",
      "    :MVMan: MVMan (or Manual value for MV) vector\n",
      "    :MVFF: MVFF (or Feedforward) vector\n",
      "\n",
      "    :Kc: controller gain\n",
      "    :Ti: integral time constant [s]\n",
      "    :Td: derivative time constant [s]\n",
      "    :alpha: Tfd = alpha*Td where Tfd is the derivative filter time constant [s]\n",
      "    :Ts: sampling period [s]\n",
      "\n",
      "    :MVMin: minimum value for MV (used for saturation and anti wind-up)\n",
      "    :MVMax: maximum value for MV (used for saturation and anti wind-up)\n",
      "\n",
      "    :MV: MV (or Manipulated Value) vector\n",
      "    :MVP: MVP (or Proportional part of MV) vector\n",
      "    :MVI: MVI (or Integral part of MV) vector\n",
      "    :MVD: MVD (or Derivative part of MV) vector\n",
      "    :E: E (or control Error) vector\n",
      "\n",
      "    :ManFF: Activated FF in manual mode (optional: default boolean value is False)\n",
      "    :PVInit: Initial value for PV (optional: default value is 0): used if PID_RT is ran first in the sequence and no value of PV is available yet.\n",
      "\n",
      "    :method: discretization method (optional: default value is 'EBD')\n",
      "        EBD-EBD: EBD for integral action and EBD for derivative action\n",
      "\n",
      "    The function \"PID_RT\" appends new values to the vectors \"MV\", \"MVP\", \"MVI\" and \"MVD\".\n",
      "    The appended values are based on the PID algorithm, the controller mode, and feedforward. Note that saturation of \"MV\" within the limits [MVMin, MVMax] is implemented with anti wind-up.\n",
      "\n"
     ]
    }
   ],
   "source": [
    "help(PID_RT)"
   ]
  },
  {
   "cell_type": "code",
   "execution_count": 5,
   "id": "e7cb0ac9-5ca2-4369-a5fd-ebeb20c247fb",
   "metadata": {},
   "outputs": [
    {
     "data": {
      "application/vnd.jupyter.widget-view+json": {
       "model_id": "6999b2a1926b4907a1d6d3a576698288",
       "version_major": 2,
       "version_minor": 0
      },
      "text/plain": [
       "interactive(children=(FloatSlider(value=2.0, description='Kc', max=10.0), FloatSlider(value=18.0, description=…"
      ]
     },
     "metadata": {},
     "output_type": "display_data"
    },
    {
     "data": {
      "text/plain": [
       "<function __main__.simulate(Kc=2, Ti=18, Td=6, alpha=0.7)>"
      ]
     },
     "execution_count": 5,
     "metadata": {},
     "output_type": "execute_result"
    }
   ],
   "source": [
    "TSim = 200\n",
    "Ts = 0.01\n",
    "N = int(TSim/Ts) + 1\n",
    "\n",
    "SPPath = {0: 50, 5: 60, TSim: 60}\n",
    "PVPath = {0: 50, 5: 50, TSim: 50}\n",
    "ManPath = {0: False, 90: True, 100: False, TSim: False}\n",
    "MVManPath = {0: 50, TSim: 50}\n",
    "MVFFPath = {0: 0, 150: 30, TSim: 20}\n",
    "\n",
    "def simulate(Kc=2, Ti=18, Td=6, alpha=0.7):\n",
    "    t = []\n",
    "    SP = []\n",
    "    PV = []\n",
    "    MV = []\n",
    "    MVP = []\n",
    "    MVI = []\n",
    "    MVD = []\n",
    "    E = []\n",
    "    Man = []\n",
    "    MVMan = []\n",
    "    MVFF = []\n",
    "    MVMin = 0\n",
    "    MVMax = 100\n",
    "\n",
    "    for i in range(0,N):\n",
    "        t.append(i*Ts)\n",
    "        SelectPath_RT(SPPath,t,SP)\n",
    "        SelectPath_RT(PVPath,t,PV)\n",
    "        SelectPath_RT(ManPath,t,Man)\n",
    "        SelectPath_RT(MVManPath,t,MVMan)\n",
    "        SelectPath_RT(MVFFPath,t,MVFF)\n",
    "        PID_RT(SP,PV,Man,MVMan,MVFF, Kc,Ti,Td,alpha,Ts,MVMin,MVMax,MV,MVP,MVI,MVD,E)\n",
    "        \n",
    "    fig, axs = plt.subplots(4, 1, figsize=(15, 12), gridspec_kw={'height_ratios': [0.5, 0.5, 0.05, 0.05]})\n",
    "    \n",
    "    axs[0].step(t,MV,'g-',linewidth=3, label='MV',where='post')\n",
    "    axs[0].step(t,MVP,'b--',linewidth=1, label='MVP',where='post')\n",
    "    axs[0].step(t,MVI,'g:',linewidth=1, label='MVI',where='post')\n",
    "    axs[0].step(t,MVD,'r--',linewidth=1, label='MVD',where='post')\n",
    "    axs[0].step(t,MVFF,'y-',linewidth=1, label='MVFF',where='post')\n",
    "    axs[0].set_ylabel('Value of MV')\n",
    "    axs[0].set_xlabel('Time [s]')\n",
    "    axs[0].legend(loc='best')\n",
    "    axs[0].set_xlim([0, TSim])\n",
    "\n",
    "    axs[1].step(t,E,'b-',linewidth=2, label='E',where='post')\n",
    "    axs[1].step(t,SP,'g-',linewidth=2, label='MV',where='post')\n",
    "    axs[1].step(t,PV,'r-',linewidth=2, label='PV',where='post')\n",
    "    axs[1].set_ylabel('Value of E')\n",
    "    axs[1].set_xlabel('Time [s]')\n",
    "    axs[1].legend(loc='best')\n",
    "    axs[1].set_xlim([0, TSim])\n",
    "\n",
    "    axs[2].step(t,Man,'b-',linewidth=2, label='Man',where='post')\n",
    "    axs[2].set_ylabel('Value of Man')\n",
    "    axs[2].set_xlabel('Time [s]')\n",
    "    axs[2].legend(loc='best')\n",
    "    axs[2].set_xlim([0, TSim])\n",
    "\n",
    "    axs[3].step(t,MVFF,'b-',linewidth=2, label='MVFF',where='post')\n",
    "    axs[3].set_ylabel('Value of MVFF')\n",
    "    axs[3].set_xlabel('Time [s]')\n",
    "    axs[3].legend(loc='best')\n",
    "    axs[3].set_xlim([0, TSim])\n",
    "\n",
    "    plt.tight_layout()\n",
    "    plt.show()\n",
    "\n",
    "widgets.interact(simulate, Kc=(0.0,10.0), Ti=(0.0,50.0), Td=(0.0,20.0), alpha=(0.1,10))"
   ]
  },
  {
   "cell_type": "markdown",
   "id": "038ff8ea-43d1-446f-9570-a93279beed1c",
   "metadata": {},
   "source": [
    "# IMC Tuning"
   ]
  },
  {
   "cell_type": "code",
   "execution_count": 6,
   "id": "d249ac74-2f2e-472c-87ea-98385d4f754f",
   "metadata": {},
   "outputs": [
    {
     "name": "stdout",
     "output_type": "stream",
     "text": [
      "Help on function IMCTuning in module package_LAB:\n",
      "\n",
      "IMCTuning(k, Tlag1, Tlag2=0, theta=0, gamma=0.5, process='SOPDT')\n",
      "    IMCTuning(K, Tlag1, Tlag2=0, theta=0, gamma=0.5, process='SOPDT')\n",
      "\n",
      "    The function \"IMCTuning\" computes the IMC PID tuning parameters for SOPDT processes.\n",
      "    For a SOPDT process we impleent the line I of the IMC tuning table (with T3=0)\n",
      "\n",
      "    :K: process gain\n",
      "    :Tlag1: first (or main) lag time constant [s]\n",
      "    :Tlag2: second lag time constant [s]\n",
      "    :theta: process delay\n",
      "    :gamma: loop response time as a ratio of T1\n",
      "\n"
     ]
    }
   ],
   "source": [
    "help(IMCTuning)"
   ]
  },
  {
   "cell_type": "code",
   "execution_count": 7,
   "id": "26f01765-8fe4-41f4-a5f4-0d89c22fbdc6",
   "metadata": {},
   "outputs": [
    {
     "name": "stdout",
     "output_type": "stream",
     "text": [
      "Kc =  4.028498952772296\n",
      "Ti =  253.93785065375502\n",
      "Td =  14.291582604989983\n"
     ]
    }
   ],
   "source": [
    "Kp_SOPDTOPT= 0.4306576253666714\n",
    "T1_SOPDTOPT= 238.7362471589338\n",
    "T2_SOPDTOPT= 15.201603494821217\n",
    "Theta_SOPDTOPT= 3.1282416191455016\n",
    "\n",
    "gamma = 0.6\n",
    "Kc, Ti, Td = IMCTuning(Kp_SOPDTOPT,T1_SOPDTOPT,T2_SOPDTOPT,Theta_SOPDTOPT,gamma,'SOPDT')\n",
    "\n",
    "print('Kc = ', Kc)\n",
    "print('Ti = ', Ti)\n",
    "print('Td = ', Td)"
   ]
  },
  {
   "cell_type": "markdown",
   "id": "bdab8e94-490a-457f-9963-56c2bb115d6b",
   "metadata": {},
   "source": [
    "# Margins"
   ]
  },
  {
   "cell_type": "code",
   "execution_count": 9,
   "id": "05d68378-6ae1-4c56-adb8-f7d6bb9885f1",
   "metadata": {},
   "outputs": [
    {
     "name": "stdout",
     "output_type": "stream",
     "text": [
      "Help on function Margins in module package_LAB:\n",
      "\n",
      "Margins(P, C, omega)\n",
      "    :P: Process as defined by the class \"Process\" in package_DBR.\n",
      "    :C: PID controller as defined by the class \"Controller\"\n",
      "    :omega: frequency vector (rad/s); generated by a command of the type \"omega = np.logspace(-2, 2, 10000)\".\n",
      "\n",
      "    The function \"Margins\" generates the Bode diagram of the loop P * C and computes its gain and phase margins\n",
      "\n"
     ]
    }
   ],
   "source": [
    "help(Margins)"
   ]
  },
  {
   "cell_type": "code",
   "execution_count": 8,
   "id": "383cfeaa-74cf-44b1-9107-3a5ecebfee7f",
   "metadata": {},
   "outputs": [
    {
     "data": {
      "application/vnd.jupyter.widget-view+json": {
       "model_id": "ffb27328b4344937a8262209005f7650",
       "version_major": 2,
       "version_minor": 0
      },
      "text/plain": [
       "interactive(children=(FloatSlider(value=0.4, description='gamma', max=0.9, min=0.2), Output()), _dom_classes=(…"
      ]
     },
     "metadata": {},
     "output_type": "display_data"
    },
    {
     "data": {
      "text/plain": [
       "<function __main__.simulate(gamma=0.4)>"
      ]
     },
     "execution_count": 8,
     "metadata": {},
     "output_type": "execute_result"
    }
   ],
   "source": [
    "Kp = 0.4306576253666714\n",
    "T1p = 238.7362471589338\n",
    "T2p = 15.201603494821217\n",
    "thetap = 3.1282416191455016\n",
    "alpha = 1\n",
    "\n",
    "\n",
    "def simulate(gamma=0.4):\n",
    "    Kc, Ti, Td = IMCTuning(Kp, T1p, T2p, thetap, gamma, \"FOPDT\")\n",
    "\n",
    "    # SOPDT process\n",
    "    SOPDT_process = Process({}) \n",
    "    SOPDT_process.parameters['Kp'] = Kp\n",
    "    SOPDT_process.parameters['Tlag1'] = T1p\n",
    "    SOPDT_process.parameters['Tlag2'] = T2p\n",
    "    SOPDT_process.parameters['theta'] = thetap\n",
    "\n",
    "    # PID controller for SOPDT process\n",
    "    PID_controller = Controller({}) \n",
    "    PID_controller.parameters['Kc'] = Kc\n",
    "    PID_controller.parameters['Ti'] = Ti\n",
    "    PID_controller.parameters['Td'] = Td\n",
    "    PID_controller.parameters['alpha'] = alpha\n",
    "\n",
    "    # omega\n",
    "    omega = np.logspace(-5, 1, 10000)\n",
    "\n",
    "    Margins(SOPDT_process, PID_controller, omega)\n",
    "\n",
    "widgets.interact(simulate, gamma=(0.2,0.9))"
   ]
  },
  {
   "cell_type": "code",
   "execution_count": null,
   "id": "68ebaa2a-f6e9-459f-89c0-53fbe53b538f",
   "metadata": {},
   "outputs": [],
   "source": []
  }
 ],
 "metadata": {
  "kernelspec": {
   "display_name": "Python 3 (ipykernel)",
   "language": "python",
   "name": "python3"
  },
  "language_info": {
   "codemirror_mode": {
    "name": "ipython",
    "version": 3
   },
   "file_extension": ".py",
   "mimetype": "text/x-python",
   "name": "python",
   "nbconvert_exporter": "python",
   "pygments_lexer": "ipython3",
   "version": "3.12.0"
  }
 },
 "nbformat": 4,
 "nbformat_minor": 5
}
