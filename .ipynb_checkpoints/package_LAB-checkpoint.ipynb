{
 "cells": [
  {
   "cell_type": "markdown",
   "id": "af4ddbf9-8b02-4f3e-a228-7d4e55ed1120",
   "metadata": {},
   "source": [
    "# Package LAB"
   ]
  },
  {
   "cell_type": "code",
   "execution_count": 42,
   "id": "62b9e26b-18fa-4ce4-b935-6cc82b223ecb",
   "metadata": {},
   "outputs": [
    {
     "ename": "ModuleNotFoundError",
     "evalue": "No module named 'control'",
     "output_type": "error",
     "traceback": [
      "\u001b[1;31m---------------------------------------------------------------------------\u001b[0m",
      "\u001b[1;31mModuleNotFoundError\u001b[0m                       Traceback (most recent call last)",
      "Cell \u001b[1;32mIn[42], line 8\u001b[0m\n\u001b[0;32m      6\u001b[0m \u001b[38;5;28;01mimport\u001b[39;00m \u001b[38;5;21;01mpackage_LAB\u001b[39;00m\n\u001b[0;32m      7\u001b[0m \u001b[38;5;28;01mfrom\u001b[39;00m \u001b[38;5;21;01mimportlib\u001b[39;00m \u001b[38;5;28;01mimport\u001b[39;00m reload\n\u001b[1;32m----> 8\u001b[0m package_LAB \u001b[38;5;241m=\u001b[39m \u001b[43mreload\u001b[49m\u001b[43m(\u001b[49m\u001b[43mpackage_LAB\u001b[49m\u001b[43m)\u001b[49m\n\u001b[0;32m     10\u001b[0m \u001b[38;5;28;01mfrom\u001b[39;00m \u001b[38;5;21;01mpackage_LAB\u001b[39;00m \u001b[38;5;28;01mimport\u001b[39;00m LL_RT, PID_RT, IMCTuning, Controller, Margins\n\u001b[0;32m     11\u001b[0m \u001b[38;5;28;01mfrom\u001b[39;00m \u001b[38;5;21;01mpackage_DBR\u001b[39;00m \u001b[38;5;28;01mimport\u001b[39;00m myRound, SelectPath_RT, Delay_RT, FO_RT, FOPDT, SOPDT, FOPDT_cost, SOPDT_cost, Process, Bode\n",
      "File \u001b[1;32m~\\AppData\\Local\\Programs\\Python\\Python312\\Lib\\importlib\\__init__.py:131\u001b[0m, in \u001b[0;36mreload\u001b[1;34m(module)\u001b[0m\n\u001b[0;32m    129\u001b[0m \u001b[38;5;28;01mif\u001b[39;00m spec \u001b[38;5;129;01mis\u001b[39;00m \u001b[38;5;28;01mNone\u001b[39;00m:\n\u001b[0;32m    130\u001b[0m     \u001b[38;5;28;01mraise\u001b[39;00m \u001b[38;5;167;01mModuleNotFoundError\u001b[39;00m(\u001b[38;5;124mf\u001b[39m\u001b[38;5;124m\"\u001b[39m\u001b[38;5;124mspec not found for the module \u001b[39m\u001b[38;5;132;01m{\u001b[39;00mname\u001b[38;5;132;01m!r}\u001b[39;00m\u001b[38;5;124m\"\u001b[39m, name\u001b[38;5;241m=\u001b[39mname)\n\u001b[1;32m--> 131\u001b[0m \u001b[43m_bootstrap\u001b[49m\u001b[38;5;241;43m.\u001b[39;49m\u001b[43m_exec\u001b[49m\u001b[43m(\u001b[49m\u001b[43mspec\u001b[49m\u001b[43m,\u001b[49m\u001b[43m \u001b[49m\u001b[43mmodule\u001b[49m\u001b[43m)\u001b[49m\n\u001b[0;32m    132\u001b[0m \u001b[38;5;66;03m# The module may have replaced itself in sys.modules!\u001b[39;00m\n\u001b[0;32m    133\u001b[0m \u001b[38;5;28;01mreturn\u001b[39;00m sys\u001b[38;5;241m.\u001b[39mmodules[name]\n",
      "File \u001b[1;32m<frozen importlib._bootstrap>:860\u001b[0m, in \u001b[0;36m_exec\u001b[1;34m(spec, module)\u001b[0m\n",
      "File \u001b[1;32m<frozen importlib._bootstrap_external>:994\u001b[0m, in \u001b[0;36mexec_module\u001b[1;34m(self, module)\u001b[0m\n",
      "File \u001b[1;32m<frozen importlib._bootstrap>:488\u001b[0m, in \u001b[0;36m_call_with_frames_removed\u001b[1;34m(f, *args, **kwds)\u001b[0m\n",
      "File \u001b[1;32m~\\Documents\\Control_theory\\Control_theory_git\\Control-Theory-2024\\package_LAB.py:7\u001b[0m\n\u001b[0;32m      4\u001b[0m \u001b[38;5;28;01mfrom\u001b[39;00m \u001b[38;5;21;01mIPython\u001b[39;00m\u001b[38;5;21;01m.\u001b[39;00m\u001b[38;5;21;01mdisplay\u001b[39;00m \u001b[38;5;28;01mimport\u001b[39;00m display, clear_output\n\u001b[0;32m      6\u001b[0m \u001b[38;5;28;01mfrom\u001b[39;00m \u001b[38;5;21;01mpackage_DBR\u001b[39;00m \u001b[38;5;28;01mimport\u001b[39;00m Bode, Process\n\u001b[1;32m----> 7\u001b[0m \u001b[38;5;28;01mimport\u001b[39;00m \u001b[38;5;21;01mcontrol\u001b[39;00m\n\u001b[0;32m      8\u001b[0m \u001b[38;5;66;03m#-----------------------------------        \u001b[39;00m\n\u001b[0;32m      9\u001b[0m \u001b[38;5;28;01mdef\u001b[39;00m \u001b[38;5;21mLL_RT\u001b[39m(MV,Kp,Tlead,Tlag,Ts,PV,PVInit\u001b[38;5;241m=\u001b[39m\u001b[38;5;241m0\u001b[39m,method\u001b[38;5;241m=\u001b[39m\u001b[38;5;124m'\u001b[39m\u001b[38;5;124mEBD\u001b[39m\u001b[38;5;124m'\u001b[39m):\n",
      "\u001b[1;31mModuleNotFoundError\u001b[0m: No module named 'control'"
     ]
    }
   ],
   "source": [
    "import numpy as np\n",
    "import matplotlib.pyplot as plt\n",
    "from scipy.optimize import minimize\n",
    "from matplotlib import colors as mcolors\n",
    "import control\n",
    "\n",
    "import package_LAB\n",
    "from importlib import reload\n",
    "package_LAB = reload(package_LAB)\n",
    "\n",
    "from package_LAB import LL_RT, PID_RT, IMCTuning, Controller, Margins\n",
    "from package_DBR import myRound, SelectPath_RT, Delay_RT, FO_RT, FOPDT, SOPDT, FOPDT_cost, SOPDT_cost, Process, Bode"
   ]
  },
  {
   "cell_type": "markdown",
   "id": "e0ab40fd-fca2-4fde-9b64-59d420d60285",
   "metadata": {},
   "source": [
    "# LL_RT()"
   ]
  },
  {
   "cell_type": "code",
   "execution_count": null,
   "id": "ef1aaebf-a9bb-49ba-8585-b6059d4fcd09",
   "metadata": {},
   "outputs": [],
   "source": [
    "help(LL_RT)"
   ]
  },
  {
   "cell_type": "code",
   "execution_count": null,
   "id": "b01ceb91-9b88-49e5-b291-836bc5d8a3e7",
   "metadata": {},
   "outputs": [],
   "source": [
    "TSim = 100\n",
    "Ts = 0.1\n",
    "N = int(TSim/Ts) + 1\n",
    "\n",
    "# Path for MV\n",
    "MVPath = {0: 0, 5: 1, 50: 2, 80: 3, TSim: 3}\n",
    "\n",
    "t = []\n",
    "MV = []\n",
    "PV_EBD = []\n",
    "PV_EFD = []\n",
    "\n",
    "\n",
    "# Parameters\n",
    "Kp = 1\n",
    "Tlead = 15\n",
    "Tlag = 10\n",
    "theta = 10\n",
    "\n",
    "for i in range(0,N):\n",
    "    t.append(i*Ts)\n",
    "    SelectPath_RT(MVPath,t,MV)\n",
    "    LL_RT(MV,Kp,Tlead,Tlag,Ts,PV_EBD)\n",
    "    LL_RT(MV,Kp,Tlead,Tlag,Ts,PV_EFD,0,'EFD')\n",
    "    \n",
    "plt.figure(figsize = (15,9))\n",
    "\n",
    "plt.subplot(2,1,1)\n",
    "plt.step(t,MV,'b-',label='MV',where='post')\n",
    "plt.ylabel('Value of MV')\n",
    "plt.title('Lead-lag response')\n",
    "plt.legend(loc='best')\n",
    "plt.xlim([0, TSim])\n",
    "\n",
    "plt.subplot(2,1,2)\n",
    "plt.step(t,PV_EBD,'g-',label='Lead-lag response (EBD)',where='post')\n",
    "plt.step(t,PV_EFD,'lime',label='Lead-lag response (EFD)',where='post')\n",
    "plt.ylabel('Value of PV')\n",
    "plt.xlabel('Time [s]')\n",
    "plt.legend(loc='best')\n",
    "plt.xlim([0, TSim])"
   ]
  },
  {
   "cell_type": "markdown",
   "id": "78144a49-7a13-4794-9fd2-2bcf67eac414",
   "metadata": {},
   "source": [
    "# PID_RT()"
   ]
  },
  {
   "cell_type": "code",
   "execution_count": null,
   "id": "4464a159-3801-4243-8932-96decff7c06d",
   "metadata": {},
   "outputs": [],
   "source": [
    "help(PID_RT)"
   ]
  },
  {
   "cell_type": "code",
   "execution_count": null,
   "id": "e7cb0ac9-5ca2-4369-a5fd-ebeb20c247fb",
   "metadata": {},
   "outputs": [],
   "source": [
    "TSim = 200\n",
    "Ts = 0.01\n",
    "N = int(TSim/Ts) + 1\n",
    "\n",
    "# Path for MV\n",
    "SPPath = {0: 50, 5: 60, TSim: 60}\n",
    "PVPath = {0: 50, 5: 50, TSim: 50}\n",
    "ManPath = {0: False, 90: True, 100: False, TSim: False}\n",
    "MVManPath = {0: 50, TSim: 50}\n",
    "MVFFPath = {0: 0, 150: 30, TSim: 20}\n",
    "\n",
    "t = []\n",
    "SP = []\n",
    "PV = []\n",
    "MV = []\n",
    "MVP = []\n",
    "MVI = []\n",
    "MVD = []\n",
    "E = []\n",
    "Man = []\n",
    "MVMan = []\n",
    "MVFF = []\n",
    "\n",
    "# Parameters\n",
    "Kc = 2\n",
    "Ti = 18\n",
    "Td = 6\n",
    "alpha = 0.3\n",
    "MVMin = 0\n",
    "MVMax = 100\n",
    "\n",
    "for i in range(0,N):\n",
    "    t.append(i*Ts)\n",
    "    SelectPath_RT(SPPath,t,SP)\n",
    "    SelectPath_RT(PVPath,t,PV)\n",
    "    SelectPath_RT(ManPath,t,Man)\n",
    "    SelectPath_RT(MVManPath,t,MVMan)\n",
    "    SelectPath_RT(MVFFPath,t,MVFF)\n",
    "    PID_RT(SP,PV,Man,MVMan,MVFF, Kc,Ti,Td,alpha,Ts,MVMin,MVMax,MV,MVP,MVI,MVD,E)\n",
    "    \n",
    "plt.figure(figsize = (15,9))\n",
    "\n",
    "plt.subplot(4,1,1)\n",
    "plt.step(t,MV,'g-',linewidth=3, label='MV',where='post')\n",
    "plt.step(t,MVP,'b--',linewidth=1, label='MVP',where='post')\n",
    "plt.step(t,MVI,'g:',linewidth=1, label='MVI',where='post')\n",
    "plt.step(t,MVD,'r--',linewidth=1, label='MVD',where='post')\n",
    "plt.step(t,MVFF,'y-',linewidth=1, label='MVFF',where='post')\n",
    "plt.ylabel('Value of MV')\n",
    "plt.xlabel('Time [s]')\n",
    "plt.legend(loc='best')\n",
    "plt.xlim([0, TSim])\n",
    "\n",
    "plt.subplot(4,1,2)\n",
    "plt.step(t,E,'b-',linewidth=2, label='E',where='post')\n",
    "plt.step(t,SP,'g-',linewidth=2, label='MV',where='post')\n",
    "plt.step(t,PV,'r-',linewidth=2, label='PV',where='post')\n",
    "plt.ylabel('Value of E')\n",
    "plt.xlabel('Time [s]')\n",
    "plt.legend(loc='best')\n",
    "plt.xlim([0, TSim])  \n",
    "\n",
    "plt.subplot(4,1,3)\n",
    "plt.step(t,Man,'b-',linewidth=2, label='Man',where='post')\n",
    "plt.ylabel('Value of Man')\n",
    "plt.xlabel('Time [s]')\n",
    "plt.legend(loc='best')\n",
    "plt.xlim([0, TSim])\n",
    "\n",
    "plt.subplot(4,1,4)\n",
    "plt.step(t,MVFF,'b-',linewidth=2, label='MVFF',where='post')\n",
    "plt.ylabel('Value of MVFF')\n",
    "plt.xlabel('Time [s]')\n",
    "plt.legend(loc='best')\n",
    "plt.xlim([0, TSim]) "
   ]
  },
  {
   "cell_type": "markdown",
   "id": "038ff8ea-43d1-446f-9570-a93279beed1c",
   "metadata": {},
   "source": [
    "# IMC Tuning"
   ]
  },
  {
   "cell_type": "code",
   "execution_count": null,
   "id": "d249ac74-2f2e-472c-87ea-98385d4f754f",
   "metadata": {},
   "outputs": [],
   "source": [
    "help(IMCTuning)"
   ]
  },
  {
   "cell_type": "code",
   "execution_count": null,
   "id": "26f01765-8fe4-41f4-a5f4-0d89c22fbdc6",
   "metadata": {},
   "outputs": [],
   "source": [
    "Kp_SOPDTOPT= 0.4306576253666714\n",
    "T1_SOPDTOPT= 238.7362471589338\n",
    "T2_SOPDTOPT= 15.201603494821217\n",
    "Theta_SOPDTOPT= 3.1282416191455016\n",
    "\n",
    "gamma = 0.3\n",
    "Kc, Ti, Td = IMCTuning(Kp_SOPDTOPT,T1_SOPDTOPT,T2_SOPDTOPT,Theta_SOPDTOPT,gamma,'SOPDT')\n",
    "\n",
    "print('Kc = ', Kc)\n",
    "print('Ti = ', Ti)\n",
    "print('Td = ', Td)"
   ]
  },
  {
   "cell_type": "markdown",
   "id": "bdab8e94-490a-457f-9963-56c2bb115d6b",
   "metadata": {},
   "source": [
    "# Margins"
   ]
  },
  {
   "cell_type": "code",
   "execution_count": null,
   "id": "383cfeaa-74cf-44b1-9107-3a5ecebfee7f",
   "metadata": {},
   "outputs": [],
   "source": [
    "Kp= 0.4306576253666714\n",
    "T1p= 238.7362471589338\n",
    "T2p= 15.201603494821217\n",
    "thetap= 3.1282416191455016\n",
    "\n",
    "gamma = 0.9\n",
    "Kc, Ti, Td = IMCTuning(Kp, T1p, T2p, thetap, gamma, \"FOPDT\")\n",
    "\n",
    "#SOPDT\n",
    "SOPDT_process = Process({}) \n",
    "SOPDT_process.parameters['Kp'] = Kp\n",
    "SOPDT_process.parameters['Tlag1'] = T1p\n",
    "SOPDT_process.parameters['Tlag2'] = T2p\n",
    "SOPDT_process.parameters['theta'] = thetap\n",
    "\n",
    "# PID controller for SOPDT process\n",
    "PID_controller = Controller({}) \n",
    "PID_controller.parameters['Kc'] = Kc\n",
    "PID_controller.parameters['Ti'] = Ti\n",
    "PID_controller.parameters['Td'] = Td\n",
    "PID_controller.parameters['alpha'] = alpha\n",
    "\n",
    "#omega\n",
    "omega = np.logspace(-5, 1, 10000)\n",
    "\n",
    "Margins(SOPDT_process, PID_controller, omega)"
   ]
  }
 ],
 "metadata": {
  "kernelspec": {
   "display_name": "Python 3 (ipykernel)",
   "language": "python",
   "name": "python3"
  },
  "language_info": {
   "codemirror_mode": {
    "name": "ipython",
    "version": 3
   },
   "file_extension": ".py",
   "mimetype": "text/x-python",
   "name": "python",
   "nbconvert_exporter": "python",
   "pygments_lexer": "ipython3",
   "version": "3.12.0"
  }
 },
 "nbformat": 4,
 "nbformat_minor": 5
}
